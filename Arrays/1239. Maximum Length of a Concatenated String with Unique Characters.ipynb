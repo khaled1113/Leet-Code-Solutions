{
 "cells": [
  {
   "cell_type": "code",
   "execution_count": 17,
   "metadata": {},
   "outputs": [],
   "source": [
    "# arr = [\"aa\",\"bb\"]\n",
    "\n",
    "\n",
    "# arr.sort()"
   ]
  },
  {
   "cell_type": "code",
   "execution_count": 18,
   "metadata": {},
   "outputs": [
    {
     "data": {
      "text/plain": [
       "['aa', 'bb']"
      ]
     },
     "execution_count": 18,
     "metadata": {},
     "output_type": "execute_result"
    }
   ],
   "source": [
    "# arr"
   ]
  },
  {
   "cell_type": "code",
   "execution_count": 19,
   "metadata": {},
   "outputs": [],
   "source": [
    "# b = len(arr)"
   ]
  },
  {
   "cell_type": "code",
   "execution_count": 20,
   "metadata": {},
   "outputs": [
    {
     "data": {
      "text/plain": [
       "2"
      ]
     },
     "execution_count": 20,
     "metadata": {},
     "output_type": "execute_result"
    }
   ],
   "source": [
    "# b"
   ]
  },
  {
   "cell_type": "code",
   "execution_count": null,
   "metadata": {},
   "outputs": [],
   "source": []
  },
  {
   "cell_type": "code",
   "execution_count": 21,
   "metadata": {},
   "outputs": [],
   "source": [
    "# if b==1:\n",
    "#     ans=len(arr[0])\n",
    "# else:\n",
    "#     ans = len(arr[0]+arr[1])\n"
   ]
  },
  {
   "cell_type": "code",
   "execution_count": 22,
   "metadata": {},
   "outputs": [
    {
     "data": {
      "text/plain": [
       "4"
      ]
     },
     "execution_count": 22,
     "metadata": {},
     "output_type": "execute_result"
    }
   ],
   "source": [
    "# ans"
   ]
  },
  {
   "cell_type": "code",
   "execution_count": null,
   "metadata": {},
   "outputs": [],
   "source": [
    "#how make sure that the elments are unique\n"
   ]
  },
  {
   "cell_type": "code",
   "execution_count": 2,
   "metadata": {},
   "outputs": [
    {
     "name": "stdout",
     "output_type": "stream",
     "text": [
      "[]\n",
      "[]\n",
      "[]\n",
      "[]\n",
      "[]\n"
     ]
    }
   ],
   "source": [
    "# #how to make the special character \n",
    "# arr =[\"aa\",\"bb\",\"c\",\"d\",\"ad\"]\n",
    "# def repeated_values(string):\n",
    "#     duplicates =[]\n",
    "#     for letters in string:\n",
    "#         if string.count(letters)>1 and letters not in duplicates:\n",
    "#             duplicates.append(letters)\n",
    "#         else:\n",
    "#           duplicates =[]\n",
    "#     return duplicates\n",
    "\n",
    "# for string in arr:\n",
    "#     duplicates =repeated_values(string)\n",
    "#     print(duplicates)"
   ]
  },
  {
   "cell_type": "code",
   "execution_count": 27,
   "metadata": {},
   "outputs": [],
   "source": [
    "def repeated_list(arr):\n",
    "    new_arr=[]\n",
    "    new_string=[]\n",
    "    for string in arr:\n",
    "        new_string=[]\n",
    "        for letters in string:\n",
    "            if string.count(letters)==1:\n",
    "                new_string.append(letters)\n",
    "                new_arr+=new_string\n",
    "                continue\n",
    "            elif string.count(letters)>=1 :\n",
    "                if letters not in new_string:\n",
    "                    new_string.append(letters)\n",
    "                elif letters in new_string:\n",
    "                    \n",
    "                    continue\n",
    "                \n",
    "    if len(new_string)==len(string):\n",
    "     new_arr+=new_string\n",
    "    return new_arr\n",
    "                \n",
    "\n"
   ]
  },
  {
   "cell_type": "code",
   "execution_count": 30,
   "metadata": {},
   "outputs": [
    {
     "data": {
      "text/plain": [
       "['c', 'd', 'a', 'a', 'd', 'a', 'd']"
      ]
     },
     "execution_count": 30,
     "metadata": {},
     "output_type": "execute_result"
    }
   ],
   "source": [
    "#some explnatioin at first i want to work on every string to see if it have repeated values if it is i will delete it from the list \n",
    "arr =[\"aa\",\"bb\",\"c\",\"d\",\"ad\"]\n",
    "repeated_list(arr)"
   ]
  },
  {
   "cell_type": "code",
   "execution_count": 23,
   "metadata": {},
   "outputs": [
    {
     "data": {
      "text/plain": [
       "['aa', 'bb', 'c', 'd', 'ad']"
      ]
     },
     "execution_count": 23,
     "metadata": {},
     "output_type": "execute_result"
    }
   ],
   "source": [
    "arr =[\"aa\",\"bb\",\"c\",\"d\",\"ad\"]\n",
    "def repeated_list(arr):\n",
    "    new_arr=[]\n",
    "    \n",
    "    for "
   ]
  },
  {
   "cell_type": "code",
   "execution_count": 6,
   "metadata": {},
   "outputs": [
    {
     "data": {
      "text/plain": [
       "['aa', 'bb', 'c', 'd', 'ad', 'khalid']"
      ]
     },
     "execution_count": 6,
     "metadata": {},
     "output_type": "execute_result"
    }
   ],
   "source": [
    "input_string = \"aabbcc\"\n",
    "unique_chars = \"\"\n",
    "\n",
    "for char in input_string:\n",
    "    if input_string.count(char) == 1 and char not in unique_chars:\n",
    "        unique_chars += char\n",
    "\n",
    "print(unique_chars)\n"
   ]
  },
  {
   "cell_type": "code",
   "execution_count": null,
   "metadata": {},
   "outputs": [],
   "source": [
    "#the new thing in her that i will use comparing len "
   ]
  }
 ],
 "metadata": {
  "kernelspec": {
   "display_name": "base",
   "language": "python",
   "name": "python3"
  },
  "language_info": {
   "codemirror_mode": {
    "name": "ipython",
    "version": 3
   },
   "file_extension": ".py",
   "mimetype": "text/x-python",
   "name": "python",
   "nbconvert_exporter": "python",
   "pygments_lexer": "ipython3",
   "version": "3.11.4"
  }
 },
 "nbformat": 4,
 "nbformat_minor": 2
}
