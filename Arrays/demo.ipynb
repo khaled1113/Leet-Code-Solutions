{
 "cells": [
  {
   "cell_type": "code",
   "execution_count": 19,
   "metadata": {},
   "outputs": [],
   "source": [
    "def new_list(arr):\n",
    "    new_string =\"\"\n",
    "    new_arr=[]\n",
    "    for string in arr:#string =ca\n",
    "        new_arr.append(new_string)#the new a\n",
    "        new_string=\"\"\n",
    "        for char in string:\n",
    "            if string.count(char)>1:\n",
    "                break\n",
    "            else:\n",
    "                new_string += char \n",
    "    \n",
    "\n",
    "                \n",
    "    return new_arr\n"
   ]
  },
  {
   "cell_type": "code",
   "execution_count": 20,
   "metadata": {},
   "outputs": [
    {
     "data": {
      "text/plain": [
       "['', '', '', 'ca']"
      ]
     },
     "execution_count": 20,
     "metadata": {},
     "output_type": "execute_result"
    }
   ],
   "source": [
    "arr =[\"aa\",\"bb\",\"ca\",\"b\"]\n",
    "new_list(arr)"
   ]
  }
 ],
 "metadata": {
  "kernelspec": {
   "display_name": "base",
   "language": "python",
   "name": "python3"
  },
  "language_info": {
   "codemirror_mode": {
    "name": "ipython",
    "version": 3
   },
   "file_extension": ".py",
   "mimetype": "text/x-python",
   "name": "python",
   "nbconvert_exporter": "python",
   "pygments_lexer": "ipython3",
   "version": "3.11.4"
  }
 },
 "nbformat": 4,
 "nbformat_minor": 2
}
